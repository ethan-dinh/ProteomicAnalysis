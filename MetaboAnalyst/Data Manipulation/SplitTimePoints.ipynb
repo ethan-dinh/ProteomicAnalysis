{
 "cells": [
  {
   "cell_type": "code",
   "execution_count": 1,
   "metadata": {},
   "outputs": [],
   "source": [
    "# Importing Libraries\n",
    "import pandas as pd\n",
    "\n",
    "# Declaring Data Path\n",
    "filePath = \"../../Input Data/Current Updated SOMA + MGH (Measures + Meta Data)/Soma plus MGH repeat measures.csv\"\n",
    "\n",
    "# Opening data set\n",
    "df = pd.read_csv(filePath, index_col=False)"
   ]
  },
  {
   "cell_type": "code",
   "execution_count": 15,
   "metadata": {},
   "outputs": [],
   "source": [
    "# Looping through the SampleIDs\n",
    "for visit in range(1, 6):\n",
    "    temp_df = df.loc[df[\"visit\"] == visit]\n",
    "    temp_df.to_csv(f\"../../Input Data/Split Time Points/Soma plus MGH repeat measures (T{visit}).csv\", index=False)"
   ]
  }
 ],
 "metadata": {
  "kernelspec": {
   "display_name": "base",
   "language": "python",
   "name": "python3"
  },
  "language_info": {
   "codemirror_mode": {
    "name": "ipython",
    "version": 3
   },
   "file_extension": ".py",
   "mimetype": "text/x-python",
   "name": "python",
   "nbconvert_exporter": "python",
   "pygments_lexer": "ipython3",
   "version": "3.9.13"
  },
  "orig_nbformat": 4,
  "vscode": {
   "interpreter": {
    "hash": "4251f1f3f61588c16b90f5696d157f5798b8bb60c31fefc70356d5820835e374"
   }
  }
 },
 "nbformat": 4,
 "nbformat_minor": 2
}
