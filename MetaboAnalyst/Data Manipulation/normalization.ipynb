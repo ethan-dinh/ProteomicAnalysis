{
 "cells": [
  {
   "cell_type": "code",
   "execution_count": 3,
   "metadata": {},
   "outputs": [],
   "source": [
    "import pandas as pd"
   ]
  },
  {
   "cell_type": "code",
   "execution_count": 8,
   "metadata": {},
   "outputs": [],
   "source": [
    "# Loading in the main data file\n",
    "filePath = \"../../Input Data/Current Updated SOMA + MGH (Measures + Meta Data)/Soma plus MGH repeat measures.csv\" # Needs to be changed!\n",
    "df = pd.read_csv(filePath, index_col=False)\n",
    "\n",
    "# Determining how many unique samples there are\n",
    "sample_list = df.SampleId.tolist()\n",
    "first_id = sample_list[0][:-2]\n",
    "counter = 0\n",
    "for i in range(1, len(sample_list)):\n",
    "    if first_id == sample_list[i][:-2]:\n",
    "        continue\n",
    "    else:\n",
    "        counter += 1\n",
    "        first_id = sample_list[i][:-2]\n",
    "\n",
    "# Iterating through the list\n",
    "col_names = df.columns.tolist()\n",
    "\n",
    "col_names.remove(\"visit\")\n",
    "col_names = col_names[1:1513]\n",
    "col_names.append(\"pth\")\n",
    "\n",
    "for feat in col_names:\n",
    "    for sample in range(counter + 1):    \n",
    "        T1 = df[feat][sample * 5]\n",
    "        if(isinstance(T1, str)):\n",
    "            break\n",
    "\n",
    "        for visit in range((sample * 5) , (sample * 5 + 5)):\n",
    "            if isinstance(df[feat][visit], float):\n",
    "                index = df.columns.get_loc(feat)\n",
    "                df.iloc[visit, index] = df[feat][visit] / T1"
   ]
  },
  {
   "cell_type": "code",
   "execution_count": 14,
   "metadata": {},
   "outputs": [],
   "source": [
    "df.to_csv(\"../../Input Data/Normalized to T1 (w: T1)/Soma plus MGH normalized measures.csv\", index=False)"
   ]
  }
 ],
 "metadata": {
  "kernelspec": {
   "display_name": "base",
   "language": "python",
   "name": "python3"
  },
  "language_info": {
   "codemirror_mode": {
    "name": "ipython",
    "version": 3
   },
   "file_extension": ".py",
   "mimetype": "text/x-python",
   "name": "python",
   "nbconvert_exporter": "python",
   "pygments_lexer": "ipython3",
   "version": "3.9.13"
  },
  "orig_nbformat": 4,
  "vscode": {
   "interpreter": {
    "hash": "4251f1f3f61588c16b90f5696d157f5798b8bb60c31fefc70356d5820835e374"
   }
  }
 },
 "nbformat": 4,
 "nbformat_minor": 2
}
