{
 "cells": [
  {
   "cell_type": "code",
   "execution_count": 79,
   "metadata": {},
   "outputs": [],
   "source": [
    "import pandas as pd"
   ]
  },
  {
   "cell_type": "code",
   "execution_count": 80,
   "metadata": {},
   "outputs": [
    {
     "name": "stderr",
     "output_type": "stream",
     "text": [
      "/var/folders/8d/pc31fj4s1mz4ylkrm72k7yy40000gn/T/ipykernel_40635/2820574935.py:31: SettingWithCopyWarning: \n",
      "A value is trying to be set on a copy of a slice from a DataFrame\n",
      "\n",
      "See the caveats in the documentation: https://pandas.pydata.org/pandas-docs/stable/user_guide/indexing.html#returning-a-view-versus-a-copy\n",
      "  df[feat][visit] = df[feat][visit] / T1\n"
     ]
    }
   ],
   "source": [
    "# Loading in the main data file\n",
    "filePath = \"../Data/Soma plus MGH repeat measures.csv\"\n",
    "df = pd.read_csv(filePath, index_col=False)\n",
    "\n",
    "# Determining how many unique samples there are\n",
    "sample_list = df.SampleId.tolist()\n",
    "first_id = sample_list[0][:-2]\n",
    "counter = 0\n",
    "for i in range(1, len(sample_list)):\n",
    "    if first_id == sample_list[i][:-2]:\n",
    "        continue\n",
    "    else:\n",
    "        counter += 1\n",
    "        first_id = sample_list[i][:-2]\n",
    "\n",
    "# Iterating through the list\n",
    "col_names = df.columns.tolist()\n",
    "\n",
    "col_names.remove(\"visit\")\n",
    "col_names = col_names[1:1513]\n",
    "col_names.append(\"pth\")\n",
    "\n",
    "for feat in col_names:\n",
    "    for sample in range(counter + 1):    \n",
    "        T1 = df[feat][sample * 5]\n",
    "        if(isinstance(T1, str)):\n",
    "            break\n",
    "\n",
    "        for visit in range((sample * 5) , (sample * 5 + 5)):\n",
    "            if isinstance(df[feat][visit], float):\n",
    "                df[feat][visit] = df[feat][visit] / T1"
   ]
  },
  {
   "cell_type": "code",
   "execution_count": 81,
   "metadata": {},
   "outputs": [],
   "source": [
    "df.to_csv(\"../Data/Soma plus MGH normalized measures.csv\", index=False)"
   ]
  }
 ],
 "metadata": {
  "kernelspec": {
   "display_name": "base",
   "language": "python",
   "name": "python3"
  },
  "language_info": {
   "codemirror_mode": {
    "name": "ipython",
    "version": 3
   },
   "file_extension": ".py",
   "mimetype": "text/x-python",
   "name": "python",
   "nbconvert_exporter": "python",
   "pygments_lexer": "ipython3",
   "version": "3.9.13"
  },
  "orig_nbformat": 4,
  "vscode": {
   "interpreter": {
    "hash": "4251f1f3f61588c16b90f5696d157f5798b8bb60c31fefc70356d5820835e374"
   }
  }
 },
 "nbformat": 4,
 "nbformat_minor": 2
}
