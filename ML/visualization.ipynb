{
 "cells": [
  {
   "attachments": {},
   "cell_type": "markdown",
   "metadata": {},
   "source": [
    "# SOMALogic Proteomic Analysis – Application of Machine Learning for Prediction\n",
    "Implementation of non-parametric machine learning models to establish proteomic and cellular markers predictive of increased refracture rate.\n",
    "\n",
    "Author: Ethan Dinh, University of Oregon \n",
    "\n",
    "Date Created: December 13, 2022\n",
    "\n",
    "---"
   ]
  },
  {
   "cell_type": "markdown",
   "metadata": {},
   "source": [
    "# Importing Libraries\n",
    "\n",
    "Loading in all of the necessary libraries to initiate the data analysis:\n",
    "1. Pandas – Builds the dataframe for the data analysis. Allows for simple data alterations and filtering.\n",
    "2. Sklearn – Used for the preprocessing of data for the machine learning models.\n",
    "3. Matplotlib – Enables graphing"
   ]
  },
  {
   "cell_type": "code",
   "execution_count": 2,
   "metadata": {},
   "outputs": [],
   "source": [
    "# Dataframe Libraries\n",
    "import pandas as pd\n",
    "import numpy as np\n",
    "\n",
    "# Matplotlib & Seaborn – Graphical Visualization Library\n",
    "import matplotlib.pyplot as plt\n",
    "import seaborn as sns\n",
    "%matplotlib inline\n",
    "\n",
    "# Machine Learning Preprocessing Library\n",
    "from sklearn.model_selection import train_test_split\n",
    "from sklearn.model_selection import cross_val_score\n",
    "from sklearn.compose import ColumnTransformer\n",
    "from sklearn.preprocessing import StandardScaler\n",
    "from sklearn.feature_selection import mutual_info_classif\n",
    "\n",
    "# Filters out the warning messages for model training and evaluation\n",
    "import warnings\n",
    "warnings.filterwarnings('ignore')\n",
    "\n",
    "# Importing Javascript Libraries\n",
    "from IPython.display import Javascript"
   ]
  },
  {
   "attachments": {},
   "cell_type": "markdown",
   "metadata": {},
   "source": [
    "---\n",
    "\n",
    "# Data Preprocessing\n",
    "Includes organizing, filtering, processing, and renaming. \n",
    "* Directed to the filepath of the original data files: \"Combined Data.xlsx & LK Clean.xlsx\"\n",
    "* Using pandas, created two datasets containing the original data\n",
    "* In order to identify the treatment week, sample ID was split into week and sample number\n",
    "* Unnecessary columns were then removed and columns were renamed to match their respective information\n"
   ]
  },
  {
   "cell_type": "code",
   "execution_count": 26,
   "metadata": {},
   "outputs": [
    {
     "data": {
      "text/html": [
       "<div>\n",
       "<style scoped>\n",
       "    .dataframe tbody tr th:only-of-type {\n",
       "        vertical-align: middle;\n",
       "    }\n",
       "\n",
       "    .dataframe tbody tr th {\n",
       "        vertical-align: top;\n",
       "    }\n",
       "\n",
       "    .dataframe thead th {\n",
       "        text-align: right;\n",
       "    }\n",
       "</style>\n",
       "<table border=\"1\" class=\"dataframe\">\n",
       "  <thead>\n",
       "    <tr style=\"text-align: right;\">\n",
       "      <th></th>\n",
       "      <th>refracture</th>\n",
       "      <th>VDR-T1</th>\n",
       "      <th>NCF-2-T1</th>\n",
       "      <th>TERF1-T1</th>\n",
       "      <th>FOXM1-T1</th>\n",
       "      <th>FANCL-T1</th>\n",
       "      <th>CBS-T1</th>\n",
       "      <th>PIAS4-T1</th>\n",
       "      <th>IL-10 Ra-T1</th>\n",
       "      <th>STAT3-T1</th>\n",
       "      <th>...</th>\n",
       "      <th>THOC1-T5</th>\n",
       "      <th>CRKL-T5</th>\n",
       "      <th>XRCC4-T5</th>\n",
       "      <th>RBBP6-T5</th>\n",
       "      <th>AF1L1-T5</th>\n",
       "      <th>Tankyrase-1-T5</th>\n",
       "      <th>GABR2:CD-T5</th>\n",
       "      <th>TM59L-T5</th>\n",
       "      <th>CSMD2-T5</th>\n",
       "      <th>AMGO1:CD-T5</th>\n",
       "    </tr>\n",
       "  </thead>\n",
       "  <tbody>\n",
       "    <tr>\n",
       "      <th>0</th>\n",
       "      <td>1</td>\n",
       "      <td>1784.9</td>\n",
       "      <td>821.3</td>\n",
       "      <td>842.0</td>\n",
       "      <td>730.9</td>\n",
       "      <td>811.2</td>\n",
       "      <td>2536.8</td>\n",
       "      <td>934.7</td>\n",
       "      <td>2481.8</td>\n",
       "      <td>8230.6</td>\n",
       "      <td>...</td>\n",
       "      <td>1878.9</td>\n",
       "      <td>3206.4</td>\n",
       "      <td>700.7</td>\n",
       "      <td>3439.1</td>\n",
       "      <td>401.5</td>\n",
       "      <td>1402.3</td>\n",
       "      <td>603.2</td>\n",
       "      <td>2527.8</td>\n",
       "      <td>7092.4</td>\n",
       "      <td>1743.6</td>\n",
       "    </tr>\n",
       "    <tr>\n",
       "      <th>1</th>\n",
       "      <td>0</td>\n",
       "      <td>1534.5</td>\n",
       "      <td>775.6</td>\n",
       "      <td>871.8</td>\n",
       "      <td>859.1</td>\n",
       "      <td>774.6</td>\n",
       "      <td>2157.7</td>\n",
       "      <td>866.7</td>\n",
       "      <td>2307.6</td>\n",
       "      <td>11718.8</td>\n",
       "      <td>...</td>\n",
       "      <td>1550.4</td>\n",
       "      <td>3557.9</td>\n",
       "      <td>835.7</td>\n",
       "      <td>3791.0</td>\n",
       "      <td>333.3</td>\n",
       "      <td>1189.1</td>\n",
       "      <td>686.6</td>\n",
       "      <td>2670.1</td>\n",
       "      <td>7601.2</td>\n",
       "      <td>1443.3</td>\n",
       "    </tr>\n",
       "    <tr>\n",
       "      <th>2</th>\n",
       "      <td>0</td>\n",
       "      <td>1465.4</td>\n",
       "      <td>954.9</td>\n",
       "      <td>872.1</td>\n",
       "      <td>809.8</td>\n",
       "      <td>824.4</td>\n",
       "      <td>2507.2</td>\n",
       "      <td>920.0</td>\n",
       "      <td>2626.2</td>\n",
       "      <td>9366.2</td>\n",
       "      <td>...</td>\n",
       "      <td>1934.4</td>\n",
       "      <td>2608.9</td>\n",
       "      <td>570.3</td>\n",
       "      <td>3181.2</td>\n",
       "      <td>409.8</td>\n",
       "      <td>1339.7</td>\n",
       "      <td>292.3</td>\n",
       "      <td>1965.2</td>\n",
       "      <td>7586.3</td>\n",
       "      <td>6748.4</td>\n",
       "    </tr>\n",
       "    <tr>\n",
       "      <th>3</th>\n",
       "      <td>1</td>\n",
       "      <td>1638.6</td>\n",
       "      <td>961.8</td>\n",
       "      <td>881.6</td>\n",
       "      <td>896.5</td>\n",
       "      <td>866.7</td>\n",
       "      <td>2205.2</td>\n",
       "      <td>771.0</td>\n",
       "      <td>2732.3</td>\n",
       "      <td>15796.1</td>\n",
       "      <td>...</td>\n",
       "      <td>1820.7</td>\n",
       "      <td>7838.2</td>\n",
       "      <td>941.7</td>\n",
       "      <td>3524.3</td>\n",
       "      <td>380.9</td>\n",
       "      <td>1405.8</td>\n",
       "      <td>626.1</td>\n",
       "      <td>2569.9</td>\n",
       "      <td>6126.3</td>\n",
       "      <td>1546.3</td>\n",
       "    </tr>\n",
       "    <tr>\n",
       "      <th>4</th>\n",
       "      <td>1</td>\n",
       "      <td>1696.0</td>\n",
       "      <td>912.3</td>\n",
       "      <td>877.9</td>\n",
       "      <td>850.0</td>\n",
       "      <td>864.7</td>\n",
       "      <td>2373.4</td>\n",
       "      <td>973.6</td>\n",
       "      <td>2702.0</td>\n",
       "      <td>10825.3</td>\n",
       "      <td>...</td>\n",
       "      <td>1754.3</td>\n",
       "      <td>4159.6</td>\n",
       "      <td>1106.6</td>\n",
       "      <td>3840.4</td>\n",
       "      <td>346.7</td>\n",
       "      <td>1294.5</td>\n",
       "      <td>758.2</td>\n",
       "      <td>2771.7</td>\n",
       "      <td>7443.5</td>\n",
       "      <td>1293.9</td>\n",
       "    </tr>\n",
       "    <tr>\n",
       "      <th>5</th>\n",
       "      <td>0</td>\n",
       "      <td>1435.7</td>\n",
       "      <td>878.0</td>\n",
       "      <td>873.8</td>\n",
       "      <td>856.7</td>\n",
       "      <td>845.1</td>\n",
       "      <td>2153.2</td>\n",
       "      <td>813.7</td>\n",
       "      <td>2813.7</td>\n",
       "      <td>13575.0</td>\n",
       "      <td>...</td>\n",
       "      <td>1723.1</td>\n",
       "      <td>6024.7</td>\n",
       "      <td>975.6</td>\n",
       "      <td>3887.3</td>\n",
       "      <td>303.9</td>\n",
       "      <td>1299.7</td>\n",
       "      <td>628.2</td>\n",
       "      <td>2801.1</td>\n",
       "      <td>7309.4</td>\n",
       "      <td>3057.8</td>\n",
       "    </tr>\n",
       "    <tr>\n",
       "      <th>10</th>\n",
       "      <td>0</td>\n",
       "      <td>1542.2</td>\n",
       "      <td>1079.1</td>\n",
       "      <td>937.4</td>\n",
       "      <td>896.5</td>\n",
       "      <td>904.5</td>\n",
       "      <td>1992.1</td>\n",
       "      <td>891.3</td>\n",
       "      <td>2296.2</td>\n",
       "      <td>13622.4</td>\n",
       "      <td>...</td>\n",
       "      <td>1619.8</td>\n",
       "      <td>1918.0</td>\n",
       "      <td>674.0</td>\n",
       "      <td>3695.2</td>\n",
       "      <td>315.2</td>\n",
       "      <td>1251.6</td>\n",
       "      <td>587.5</td>\n",
       "      <td>2604.5</td>\n",
       "      <td>5768.0</td>\n",
       "      <td>2045.8</td>\n",
       "    </tr>\n",
       "    <tr>\n",
       "      <th>11</th>\n",
       "      <td>0</td>\n",
       "      <td>1791.8</td>\n",
       "      <td>778.1</td>\n",
       "      <td>814.9</td>\n",
       "      <td>802.0</td>\n",
       "      <td>796.7</td>\n",
       "      <td>2336.5</td>\n",
       "      <td>968.7</td>\n",
       "      <td>2781.2</td>\n",
       "      <td>8581.4</td>\n",
       "      <td>...</td>\n",
       "      <td>1711.6</td>\n",
       "      <td>6409.7</td>\n",
       "      <td>713.8</td>\n",
       "      <td>3748.3</td>\n",
       "      <td>319.2</td>\n",
       "      <td>1295.2</td>\n",
       "      <td>620.0</td>\n",
       "      <td>2668.2</td>\n",
       "      <td>7880.9</td>\n",
       "      <td>1492.6</td>\n",
       "    </tr>\n",
       "    <tr>\n",
       "      <th>12</th>\n",
       "      <td>0</td>\n",
       "      <td>1720.7</td>\n",
       "      <td>888.7</td>\n",
       "      <td>819.9</td>\n",
       "      <td>1039.8</td>\n",
       "      <td>814.9</td>\n",
       "      <td>2192.3</td>\n",
       "      <td>892.6</td>\n",
       "      <td>2755.0</td>\n",
       "      <td>14620.8</td>\n",
       "      <td>...</td>\n",
       "      <td>1635.0</td>\n",
       "      <td>4518.0</td>\n",
       "      <td>1245.8</td>\n",
       "      <td>3664.8</td>\n",
       "      <td>332.0</td>\n",
       "      <td>1286.5</td>\n",
       "      <td>634.1</td>\n",
       "      <td>2678.7</td>\n",
       "      <td>7025.3</td>\n",
       "      <td>990.9</td>\n",
       "    </tr>\n",
       "    <tr>\n",
       "      <th>13</th>\n",
       "      <td>0</td>\n",
       "      <td>1414.0</td>\n",
       "      <td>949.5</td>\n",
       "      <td>1984.7</td>\n",
       "      <td>652.3</td>\n",
       "      <td>564.0</td>\n",
       "      <td>2098.8</td>\n",
       "      <td>606.0</td>\n",
       "      <td>2552.3</td>\n",
       "      <td>10834.2</td>\n",
       "      <td>...</td>\n",
       "      <td>1667.9</td>\n",
       "      <td>3645.7</td>\n",
       "      <td>1120.3</td>\n",
       "      <td>3840.3</td>\n",
       "      <td>298.0</td>\n",
       "      <td>1287.0</td>\n",
       "      <td>735.4</td>\n",
       "      <td>2720.6</td>\n",
       "      <td>6046.4</td>\n",
       "      <td>1653.2</td>\n",
       "    </tr>\n",
       "    <tr>\n",
       "      <th>14</th>\n",
       "      <td>0</td>\n",
       "      <td>1707.5</td>\n",
       "      <td>1139.4</td>\n",
       "      <td>928.0</td>\n",
       "      <td>998.0</td>\n",
       "      <td>3259.7</td>\n",
       "      <td>2140.5</td>\n",
       "      <td>887.9</td>\n",
       "      <td>2166.0</td>\n",
       "      <td>16170.0</td>\n",
       "      <td>...</td>\n",
       "      <td>1670.9</td>\n",
       "      <td>5545.6</td>\n",
       "      <td>921.5</td>\n",
       "      <td>4150.3</td>\n",
       "      <td>306.3</td>\n",
       "      <td>1453.8</td>\n",
       "      <td>731.5</td>\n",
       "      <td>2741.8</td>\n",
       "      <td>6145.2</td>\n",
       "      <td>1367.5</td>\n",
       "    </tr>\n",
       "    <tr>\n",
       "      <th>15</th>\n",
       "      <td>0</td>\n",
       "      <td>1501.2</td>\n",
       "      <td>1100.2</td>\n",
       "      <td>931.8</td>\n",
       "      <td>1159.3</td>\n",
       "      <td>878.3</td>\n",
       "      <td>2061.6</td>\n",
       "      <td>936.5</td>\n",
       "      <td>2173.4</td>\n",
       "      <td>16454.2</td>\n",
       "      <td>...</td>\n",
       "      <td>1727.8</td>\n",
       "      <td>4110.3</td>\n",
       "      <td>912.1</td>\n",
       "      <td>3504.2</td>\n",
       "      <td>335.3</td>\n",
       "      <td>1370.5</td>\n",
       "      <td>514.2</td>\n",
       "      <td>2747.4</td>\n",
       "      <td>7444.6</td>\n",
       "      <td>3684.1</td>\n",
       "    </tr>\n",
       "    <tr>\n",
       "      <th>16</th>\n",
       "      <td>0</td>\n",
       "      <td>1691.1</td>\n",
       "      <td>1007.0</td>\n",
       "      <td>859.9</td>\n",
       "      <td>969.4</td>\n",
       "      <td>838.7</td>\n",
       "      <td>2185.6</td>\n",
       "      <td>905.9</td>\n",
       "      <td>2620.1</td>\n",
       "      <td>12151.1</td>\n",
       "      <td>...</td>\n",
       "      <td>1765.0</td>\n",
       "      <td>3362.8</td>\n",
       "      <td>877.5</td>\n",
       "      <td>3962.2</td>\n",
       "      <td>306.8</td>\n",
       "      <td>1354.9</td>\n",
       "      <td>651.8</td>\n",
       "      <td>2720.1</td>\n",
       "      <td>5403.2</td>\n",
       "      <td>1142.7</td>\n",
       "    </tr>\n",
       "    <tr>\n",
       "      <th>17</th>\n",
       "      <td>1</td>\n",
       "      <td>1602.8</td>\n",
       "      <td>855.3</td>\n",
       "      <td>815.1</td>\n",
       "      <td>894.2</td>\n",
       "      <td>866.1</td>\n",
       "      <td>2430.4</td>\n",
       "      <td>746.7</td>\n",
       "      <td>2499.6</td>\n",
       "      <td>15947.3</td>\n",
       "      <td>...</td>\n",
       "      <td>1411.0</td>\n",
       "      <td>4669.2</td>\n",
       "      <td>458.9</td>\n",
       "      <td>5003.8</td>\n",
       "      <td>408.5</td>\n",
       "      <td>946.9</td>\n",
       "      <td>1091.9</td>\n",
       "      <td>2500.7</td>\n",
       "      <td>8738.8</td>\n",
       "      <td>3307.1</td>\n",
       "    </tr>\n",
       "    <tr>\n",
       "      <th>18</th>\n",
       "      <td>0</td>\n",
       "      <td>1839.2</td>\n",
       "      <td>845.3</td>\n",
       "      <td>816.2</td>\n",
       "      <td>781.5</td>\n",
       "      <td>827.3</td>\n",
       "      <td>2587.8</td>\n",
       "      <td>888.7</td>\n",
       "      <td>2556.1</td>\n",
       "      <td>11683.4</td>\n",
       "      <td>...</td>\n",
       "      <td>1621.3</td>\n",
       "      <td>3187.4</td>\n",
       "      <td>885.9</td>\n",
       "      <td>3799.2</td>\n",
       "      <td>311.3</td>\n",
       "      <td>1181.7</td>\n",
       "      <td>1503.3</td>\n",
       "      <td>2785.3</td>\n",
       "      <td>8237.5</td>\n",
       "      <td>1150.5</td>\n",
       "    </tr>\n",
       "    <tr>\n",
       "      <th>19</th>\n",
       "      <td>1</td>\n",
       "      <td>1710.2</td>\n",
       "      <td>793.4</td>\n",
       "      <td>832.1</td>\n",
       "      <td>726.8</td>\n",
       "      <td>761.6</td>\n",
       "      <td>2438.2</td>\n",
       "      <td>819.1</td>\n",
       "      <td>2803.3</td>\n",
       "      <td>9909.0</td>\n",
       "      <td>...</td>\n",
       "      <td>1455.1</td>\n",
       "      <td>2260.2</td>\n",
       "      <td>630.9</td>\n",
       "      <td>3627.9</td>\n",
       "      <td>318.0</td>\n",
       "      <td>1131.3</td>\n",
       "      <td>684.3</td>\n",
       "      <td>2850.3</td>\n",
       "      <td>7889.0</td>\n",
       "      <td>1588.6</td>\n",
       "    </tr>\n",
       "    <tr>\n",
       "      <th>21</th>\n",
       "      <td>0</td>\n",
       "      <td>1665.8</td>\n",
       "      <td>1043.5</td>\n",
       "      <td>949.9</td>\n",
       "      <td>915.7</td>\n",
       "      <td>817.2</td>\n",
       "      <td>2363.1</td>\n",
       "      <td>840.2</td>\n",
       "      <td>2900.6</td>\n",
       "      <td>12491.7</td>\n",
       "      <td>...</td>\n",
       "      <td>1771.1</td>\n",
       "      <td>3524.3</td>\n",
       "      <td>1137.2</td>\n",
       "      <td>3391.4</td>\n",
       "      <td>391.1</td>\n",
       "      <td>1294.8</td>\n",
       "      <td>695.0</td>\n",
       "      <td>2596.2</td>\n",
       "      <td>6444.2</td>\n",
       "      <td>1377.8</td>\n",
       "    </tr>\n",
       "    <tr>\n",
       "      <th>22</th>\n",
       "      <td>1</td>\n",
       "      <td>1656.9</td>\n",
       "      <td>942.8</td>\n",
       "      <td>851.7</td>\n",
       "      <td>897.5</td>\n",
       "      <td>837.6</td>\n",
       "      <td>2369.1</td>\n",
       "      <td>847.8</td>\n",
       "      <td>2277.5</td>\n",
       "      <td>8957.7</td>\n",
       "      <td>...</td>\n",
       "      <td>1672.6</td>\n",
       "      <td>1365.1</td>\n",
       "      <td>796.4</td>\n",
       "      <td>3508.6</td>\n",
       "      <td>327.9</td>\n",
       "      <td>1237.4</td>\n",
       "      <td>633.4</td>\n",
       "      <td>2677.3</td>\n",
       "      <td>5702.8</td>\n",
       "      <td>1902.9</td>\n",
       "    </tr>\n",
       "    <tr>\n",
       "      <th>23</th>\n",
       "      <td>0</td>\n",
       "      <td>1473.0</td>\n",
       "      <td>825.3</td>\n",
       "      <td>908.6</td>\n",
       "      <td>805.1</td>\n",
       "      <td>857.1</td>\n",
       "      <td>2306.0</td>\n",
       "      <td>768.9</td>\n",
       "      <td>2715.5</td>\n",
       "      <td>10309.6</td>\n",
       "      <td>...</td>\n",
       "      <td>1572.2</td>\n",
       "      <td>3437.2</td>\n",
       "      <td>776.3</td>\n",
       "      <td>4111.5</td>\n",
       "      <td>292.3</td>\n",
       "      <td>1218.1</td>\n",
       "      <td>739.5</td>\n",
       "      <td>2784.0</td>\n",
       "      <td>5746.3</td>\n",
       "      <td>1250.6</td>\n",
       "    </tr>\n",
       "    <tr>\n",
       "      <th>24</th>\n",
       "      <td>1</td>\n",
       "      <td>1990.6</td>\n",
       "      <td>874.8</td>\n",
       "      <td>842.5</td>\n",
       "      <td>745.4</td>\n",
       "      <td>843.1</td>\n",
       "      <td>2537.1</td>\n",
       "      <td>932.3</td>\n",
       "      <td>3160.2</td>\n",
       "      <td>8503.7</td>\n",
       "      <td>...</td>\n",
       "      <td>1826.5</td>\n",
       "      <td>5769.5</td>\n",
       "      <td>775.8</td>\n",
       "      <td>3950.7</td>\n",
       "      <td>346.1</td>\n",
       "      <td>1381.5</td>\n",
       "      <td>718.9</td>\n",
       "      <td>2687.7</td>\n",
       "      <td>5262.0</td>\n",
       "      <td>2213.1</td>\n",
       "    </tr>\n",
       "    <tr>\n",
       "      <th>25</th>\n",
       "      <td>0</td>\n",
       "      <td>1675.7</td>\n",
       "      <td>846.8</td>\n",
       "      <td>862.1</td>\n",
       "      <td>740.5</td>\n",
       "      <td>760.0</td>\n",
       "      <td>2276.9</td>\n",
       "      <td>750.6</td>\n",
       "      <td>2950.5</td>\n",
       "      <td>9959.6</td>\n",
       "      <td>...</td>\n",
       "      <td>1729.9</td>\n",
       "      <td>8274.6</td>\n",
       "      <td>815.5</td>\n",
       "      <td>3804.2</td>\n",
       "      <td>372.6</td>\n",
       "      <td>1303.7</td>\n",
       "      <td>706.7</td>\n",
       "      <td>2712.0</td>\n",
       "      <td>6227.5</td>\n",
       "      <td>3177.7</td>\n",
       "    </tr>\n",
       "    <tr>\n",
       "      <th>26</th>\n",
       "      <td>1</td>\n",
       "      <td>1783.7</td>\n",
       "      <td>1011.9</td>\n",
       "      <td>734.3</td>\n",
       "      <td>904.8</td>\n",
       "      <td>853.6</td>\n",
       "      <td>2337.4</td>\n",
       "      <td>769.4</td>\n",
       "      <td>2789.9</td>\n",
       "      <td>11498.9</td>\n",
       "      <td>...</td>\n",
       "      <td>1758.1</td>\n",
       "      <td>8571.5</td>\n",
       "      <td>828.1</td>\n",
       "      <td>3982.9</td>\n",
       "      <td>307.2</td>\n",
       "      <td>1424.8</td>\n",
       "      <td>712.0</td>\n",
       "      <td>2758.1</td>\n",
       "      <td>5392.8</td>\n",
       "      <td>1118.8</td>\n",
       "    </tr>\n",
       "    <tr>\n",
       "      <th>27</th>\n",
       "      <td>0</td>\n",
       "      <td>1799.3</td>\n",
       "      <td>840.0</td>\n",
       "      <td>875.8</td>\n",
       "      <td>834.1</td>\n",
       "      <td>854.5</td>\n",
       "      <td>2256.3</td>\n",
       "      <td>967.4</td>\n",
       "      <td>2509.6</td>\n",
       "      <td>11555.2</td>\n",
       "      <td>...</td>\n",
       "      <td>2329.5</td>\n",
       "      <td>7129.1</td>\n",
       "      <td>947.4</td>\n",
       "      <td>3793.6</td>\n",
       "      <td>399.3</td>\n",
       "      <td>1595.8</td>\n",
       "      <td>579.7</td>\n",
       "      <td>2689.8</td>\n",
       "      <td>5729.4</td>\n",
       "      <td>2276.2</td>\n",
       "    </tr>\n",
       "    <tr>\n",
       "      <th>28</th>\n",
       "      <td>1</td>\n",
       "      <td>878.0</td>\n",
       "      <td>1038.0</td>\n",
       "      <td>654.0</td>\n",
       "      <td>903.6</td>\n",
       "      <td>916.1</td>\n",
       "      <td>3810.9</td>\n",
       "      <td>182.0</td>\n",
       "      <td>2669.1</td>\n",
       "      <td>13866.8</td>\n",
       "      <td>...</td>\n",
       "      <td>1735.2</td>\n",
       "      <td>2210.8</td>\n",
       "      <td>1087.4</td>\n",
       "      <td>3750.3</td>\n",
       "      <td>295.9</td>\n",
       "      <td>1250.1</td>\n",
       "      <td>735.8</td>\n",
       "      <td>2887.1</td>\n",
       "      <td>6943.2</td>\n",
       "      <td>4020.9</td>\n",
       "    </tr>\n",
       "    <tr>\n",
       "      <th>29</th>\n",
       "      <td>0</td>\n",
       "      <td>1942.2</td>\n",
       "      <td>885.5</td>\n",
       "      <td>875.7</td>\n",
       "      <td>876.3</td>\n",
       "      <td>875.0</td>\n",
       "      <td>2214.5</td>\n",
       "      <td>880.5</td>\n",
       "      <td>2447.9</td>\n",
       "      <td>11554.8</td>\n",
       "      <td>...</td>\n",
       "      <td>1561.8</td>\n",
       "      <td>7239.1</td>\n",
       "      <td>753.6</td>\n",
       "      <td>4050.8</td>\n",
       "      <td>311.6</td>\n",
       "      <td>1294.2</td>\n",
       "      <td>744.4</td>\n",
       "      <td>2833.2</td>\n",
       "      <td>8110.7</td>\n",
       "      <td>1908.1</td>\n",
       "    </tr>\n",
       "  </tbody>\n",
       "</table>\n",
       "<p>25 rows × 7561 columns</p>\n",
       "</div>"
      ],
      "text/plain": [
       "    refracture  VDR-T1  NCF-2-T1  TERF1-T1  FOXM1-T1  FANCL-T1  CBS-T1  \\\n",
       "0            1  1784.9     821.3     842.0     730.9     811.2  2536.8   \n",
       "1            0  1534.5     775.6     871.8     859.1     774.6  2157.7   \n",
       "2            0  1465.4     954.9     872.1     809.8     824.4  2507.2   \n",
       "3            1  1638.6     961.8     881.6     896.5     866.7  2205.2   \n",
       "4            1  1696.0     912.3     877.9     850.0     864.7  2373.4   \n",
       "5            0  1435.7     878.0     873.8     856.7     845.1  2153.2   \n",
       "10           0  1542.2    1079.1     937.4     896.5     904.5  1992.1   \n",
       "11           0  1791.8     778.1     814.9     802.0     796.7  2336.5   \n",
       "12           0  1720.7     888.7     819.9    1039.8     814.9  2192.3   \n",
       "13           0  1414.0     949.5    1984.7     652.3     564.0  2098.8   \n",
       "14           0  1707.5    1139.4     928.0     998.0    3259.7  2140.5   \n",
       "15           0  1501.2    1100.2     931.8    1159.3     878.3  2061.6   \n",
       "16           0  1691.1    1007.0     859.9     969.4     838.7  2185.6   \n",
       "17           1  1602.8     855.3     815.1     894.2     866.1  2430.4   \n",
       "18           0  1839.2     845.3     816.2     781.5     827.3  2587.8   \n",
       "19           1  1710.2     793.4     832.1     726.8     761.6  2438.2   \n",
       "21           0  1665.8    1043.5     949.9     915.7     817.2  2363.1   \n",
       "22           1  1656.9     942.8     851.7     897.5     837.6  2369.1   \n",
       "23           0  1473.0     825.3     908.6     805.1     857.1  2306.0   \n",
       "24           1  1990.6     874.8     842.5     745.4     843.1  2537.1   \n",
       "25           0  1675.7     846.8     862.1     740.5     760.0  2276.9   \n",
       "26           1  1783.7    1011.9     734.3     904.8     853.6  2337.4   \n",
       "27           0  1799.3     840.0     875.8     834.1     854.5  2256.3   \n",
       "28           1   878.0    1038.0     654.0     903.6     916.1  3810.9   \n",
       "29           0  1942.2     885.5     875.7     876.3     875.0  2214.5   \n",
       "\n",
       "    PIAS4-T1  IL-10 Ra-T1  STAT3-T1  ...  THOC1-T5  CRKL-T5  XRCC4-T5  \\\n",
       "0      934.7       2481.8    8230.6  ...    1878.9   3206.4     700.7   \n",
       "1      866.7       2307.6   11718.8  ...    1550.4   3557.9     835.7   \n",
       "2      920.0       2626.2    9366.2  ...    1934.4   2608.9     570.3   \n",
       "3      771.0       2732.3   15796.1  ...    1820.7   7838.2     941.7   \n",
       "4      973.6       2702.0   10825.3  ...    1754.3   4159.6    1106.6   \n",
       "5      813.7       2813.7   13575.0  ...    1723.1   6024.7     975.6   \n",
       "10     891.3       2296.2   13622.4  ...    1619.8   1918.0     674.0   \n",
       "11     968.7       2781.2    8581.4  ...    1711.6   6409.7     713.8   \n",
       "12     892.6       2755.0   14620.8  ...    1635.0   4518.0    1245.8   \n",
       "13     606.0       2552.3   10834.2  ...    1667.9   3645.7    1120.3   \n",
       "14     887.9       2166.0   16170.0  ...    1670.9   5545.6     921.5   \n",
       "15     936.5       2173.4   16454.2  ...    1727.8   4110.3     912.1   \n",
       "16     905.9       2620.1   12151.1  ...    1765.0   3362.8     877.5   \n",
       "17     746.7       2499.6   15947.3  ...    1411.0   4669.2     458.9   \n",
       "18     888.7       2556.1   11683.4  ...    1621.3   3187.4     885.9   \n",
       "19     819.1       2803.3    9909.0  ...    1455.1   2260.2     630.9   \n",
       "21     840.2       2900.6   12491.7  ...    1771.1   3524.3    1137.2   \n",
       "22     847.8       2277.5    8957.7  ...    1672.6   1365.1     796.4   \n",
       "23     768.9       2715.5   10309.6  ...    1572.2   3437.2     776.3   \n",
       "24     932.3       3160.2    8503.7  ...    1826.5   5769.5     775.8   \n",
       "25     750.6       2950.5    9959.6  ...    1729.9   8274.6     815.5   \n",
       "26     769.4       2789.9   11498.9  ...    1758.1   8571.5     828.1   \n",
       "27     967.4       2509.6   11555.2  ...    2329.5   7129.1     947.4   \n",
       "28     182.0       2669.1   13866.8  ...    1735.2   2210.8    1087.4   \n",
       "29     880.5       2447.9   11554.8  ...    1561.8   7239.1     753.6   \n",
       "\n",
       "    RBBP6-T5  AF1L1-T5  Tankyrase-1-T5  GABR2:CD-T5  TM59L-T5  CSMD2-T5  \\\n",
       "0     3439.1     401.5          1402.3        603.2    2527.8    7092.4   \n",
       "1     3791.0     333.3          1189.1        686.6    2670.1    7601.2   \n",
       "2     3181.2     409.8          1339.7        292.3    1965.2    7586.3   \n",
       "3     3524.3     380.9          1405.8        626.1    2569.9    6126.3   \n",
       "4     3840.4     346.7          1294.5        758.2    2771.7    7443.5   \n",
       "5     3887.3     303.9          1299.7        628.2    2801.1    7309.4   \n",
       "10    3695.2     315.2          1251.6        587.5    2604.5    5768.0   \n",
       "11    3748.3     319.2          1295.2        620.0    2668.2    7880.9   \n",
       "12    3664.8     332.0          1286.5        634.1    2678.7    7025.3   \n",
       "13    3840.3     298.0          1287.0        735.4    2720.6    6046.4   \n",
       "14    4150.3     306.3          1453.8        731.5    2741.8    6145.2   \n",
       "15    3504.2     335.3          1370.5        514.2    2747.4    7444.6   \n",
       "16    3962.2     306.8          1354.9        651.8    2720.1    5403.2   \n",
       "17    5003.8     408.5           946.9       1091.9    2500.7    8738.8   \n",
       "18    3799.2     311.3          1181.7       1503.3    2785.3    8237.5   \n",
       "19    3627.9     318.0          1131.3        684.3    2850.3    7889.0   \n",
       "21    3391.4     391.1          1294.8        695.0    2596.2    6444.2   \n",
       "22    3508.6     327.9          1237.4        633.4    2677.3    5702.8   \n",
       "23    4111.5     292.3          1218.1        739.5    2784.0    5746.3   \n",
       "24    3950.7     346.1          1381.5        718.9    2687.7    5262.0   \n",
       "25    3804.2     372.6          1303.7        706.7    2712.0    6227.5   \n",
       "26    3982.9     307.2          1424.8        712.0    2758.1    5392.8   \n",
       "27    3793.6     399.3          1595.8        579.7    2689.8    5729.4   \n",
       "28    3750.3     295.9          1250.1        735.8    2887.1    6943.2   \n",
       "29    4050.8     311.6          1294.2        744.4    2833.2    8110.7   \n",
       "\n",
       "    AMGO1:CD-T5  \n",
       "0        1743.6  \n",
       "1        1443.3  \n",
       "2        6748.4  \n",
       "3        1546.3  \n",
       "4        1293.9  \n",
       "5        3057.8  \n",
       "10       2045.8  \n",
       "11       1492.6  \n",
       "12        990.9  \n",
       "13       1653.2  \n",
       "14       1367.5  \n",
       "15       3684.1  \n",
       "16       1142.7  \n",
       "17       3307.1  \n",
       "18       1150.5  \n",
       "19       1588.6  \n",
       "21       1377.8  \n",
       "22       1902.9  \n",
       "23       1250.6  \n",
       "24       2213.1  \n",
       "25       3177.7  \n",
       "26       1118.8  \n",
       "27       2276.2  \n",
       "28       4020.9  \n",
       "29       1908.1  \n",
       "\n",
       "[25 rows x 7561 columns]"
      ]
     },
     "metadata": {},
     "output_type": "display_data"
    }
   ],
   "source": [
    "# Loading in the main data file\n",
    "filePath = \"/Users/ethandinh/Knight Campus/Projects/SOMA Data Analysis/SOMA Proteomic Panel Analysis/Data/ED-Combined-Transformed.csv\"\n",
    "somaData = pd.read_csv(filePath)\n",
    "\n",
    "# Removing the Sample IDs from the dataset\n",
    "df = somaData.drop(columns = \"SampleId\")\n",
    "\n",
    "# Removing columns with NA values\n",
    "df.dropna(axis = 0, inplace = True)\n",
    "\n",
    "# Display the dataset\n",
    "display(df)"
   ]
  },
  {
   "cell_type": "code",
   "execution_count": 60,
   "metadata": {},
   "outputs": [],
   "source": [
    "from typing import List\n",
    "\n",
    "def find_cols(df, name) -> List[str]:\n",
    "    pure_names = []\n",
    "    column_names = list(df.columns)\n",
    "    for i in range(len(column_names)):\n",
    "        if (name in column_names[i][:-3]):\n",
    "            pure_names.append(column_names[i])\n",
    "    return pure_names\n",
    "\n",
    "def split_list(name_list) -> List[List[str]]:\n",
    "    counter = 0 \n",
    "    index = 0\n",
    "    while True:\n",
    "        if name_list[index][-2:] == \"T1\":\n",
    "            counter += 1\n",
    "        else: break\n",
    "        index += 1\n",
    "\n",
    "    print(f\"There are {counter} types of {name_list[0][-2]} Markers.\")\n",
    "\n",
    "    output = {}\n",
    "    for i in range(counter):\n",
    "        curr_name = name_list[i][:-3]\n",
    "        for j in range(len(name_list)):\n",
    "            if (curr_name == name_list[j][:-3]):\n",
    "                if curr_name not in output:\n",
    "                    output[curr_name] = [name_list[j]]\n",
    "                else:\n",
    "                    output[curr_name].append(name_list[j])\n",
    "        output[curr_name].append(\"refracture\")\n",
    "    return output"
   ]
  },
  {
   "cell_type": "code",
   "execution_count": 76,
   "metadata": {},
   "outputs": [
    {
     "name": "stdout",
     "output_type": "stream",
     "text": [
      "There are 5 types of T Markers.\n",
      "{'IL-10 Ra': ['IL-10 Ra-T1', 'IL-10 Ra-T2', 'IL-10 Ra-T3', 'IL-10 Ra-T4', 'IL-10 Ra-T5', 'refracture'], 'IL-10 Rb': ['IL-10 Rb-T1', 'IL-10 Rb-T2', 'IL-10 Rb-T3', 'IL-10 Rb-T4', 'IL-10 Rb-T5', 'refracture'], 'IL-10': ['IL-10-T1', 'IL-10-T2', 'IL-10-T3', 'IL-10-T4', 'IL-10-T5', 'refracture'], 'IL-10 Ra:ECD': ['IL-10 Ra:ECD-T1', 'IL-10 Ra:ECD-T2', 'IL-10 Ra:ECD-T3', 'IL-10 Ra:ECD-T4', 'IL-10 Ra:ECD-T5', 'refracture'], 'IL-10 Ra:CD': ['IL-10 Ra:CD-T1', 'IL-10 Ra:CD-T2', 'IL-10 Ra:CD-T3', 'IL-10 Ra:CD-T4', 'IL-10 Ra:CD-T5', 'refracture']}\n"
     ]
    }
   ],
   "source": [
    "IL_10 = find_cols(df, \"IL-10\")\n",
    "IL_10_split = split_list(IL_10)\n",
    "print(IL_10_split)"
   ]
  },
  {
   "cell_type": "code",
   "execution_count": 84,
   "metadata": {},
   "outputs": [],
   "source": [
    "IL_10_DF = df[IL_10_split[\"IL-10\"]]\n",
    "\n",
    "# Normalization\n",
    "from sklearn.preprocessing import StandardScaler\n",
    "\n",
    "feats = list(IL_10_DF.columns)[:-1]\n",
    "IL_10_DF[feats] = StandardScaler().fit_transform(IL_10_DF[feats])"
   ]
  },
  {
   "cell_type": "code",
   "execution_count": 82,
   "metadata": {},
   "outputs": [
    {
     "data": {
      "application/vnd.plotly.v1+json": {
       "config": {
        "plotlyServerURL": "https://plot.ly"
       },
       "data": [
        {
         "dimensions": [
          {
           "label": "IL-10-T1",
           "values": [
            -0.26168725621988637,
            3.2969527091570927,
            0.5225380054939436,
            0.4807126582025397,
            -0.39587691211314147,
            0.2698431989417095,
            0.6846112262481353,
            -0.42376047697407804,
            -0.5631783012787589,
            2.3454260582776465,
            0.4336591424997091,
            0.6253586509186453,
            -0.24600275098561014,
            -0.3139689403341417,
            -0.8786111287680993,
            -0.5701491924939925,
            -0.30699804911890805,
            -0.44467315061978,
            -0.23206096855514186,
            -0.7130524624062903,
            -0.16932294761803507,
            -1.1504758861622268,
            -0.10658492668092927,
            -1.661093667678121,
            -0.2216046317322904
           ]
          },
          {
           "label": "IL-10-T2",
           "values": [
            -0.7895542495247031,
            4.094450936745461,
            0.780711533648485,
            0.9926632286196123,
            0.18132125647207165,
            0.5778760406116005,
            -0.7530894417877357,
            0.222344165176161,
            -0.7143455835672061,
            -0.042025690916856887,
            -0.20611732573321434,
            -0.30411649652631506,
            -0.7895542495247031,
            -0.4932776866618373,
            -0.5343005953659267,
            -0.055699993818220446,
            -0.2106754267003351,
            -0.8852743698342441,
            -1.010622146430072,
            -0.1833268208976093,
            -0.28588409265783205,
            0.9265707645963581,
            -0.283605042174271,
            -0.5046729390796398,
            0.27020422533093214
           ]
          },
          {
           "label": "IL-10-T3",
           "values": [
            -0.23676798633687693,
            0.7165521760794887,
            -0.04475467109787023,
            0.031012745185629836,
            -0.34419165188951034,
            -0.31149749280827405,
            -0.39401132287044194,
            4.77945013555566,
            -0.3089027182780172,
            -0.3426347871713562,
            -0.2917772063783222,
            -0.24143858049133915,
            -0.2736137846665243,
            -0.2933340710964761,
            -0.23780589614897962,
            -0.3343315086745345,
            -0.2388438059610823,
            -0.34419165188951034,
            -0.3390021028289967,
            -0.346267471513716,
            0.05073303161558164,
            -0.17656921723491795,
            -0.16255743477153103,
            -0.22068038424928438,
            -0.09457434207880182
           ]
          },
          {
           "label": "IL-10-T4",
           "values": [
            0.1566677189210409,
            1.9926175500269838,
            0.06755436454572308,
            0.10835324968141083,
            -0.46927307145016667,
            -0.15039757446860827,
            -0.6636046032806789,
            0.19961391380071208,
            -0.6077745499371066,
            -0.3919699206667587,
            -0.3017829114194494,
            -0.3028565662914408,
            -0.5444289124895912,
            -0.45853652273024886,
            -0.35117103553107093,
            -0.4166639827225697,
            1.7982860181964715,
            -0.6206584084010078,
            -0.5734175940333691,
            -0.25454209705181075,
            -0.5476498771055667,
            -0.11496696369287943,
            -0.07524173342918371,
            -1.1102450300292592,
            3.6320885395584304
           ]
          },
          {
           "label": "IL-10-T5",
           "values": [
            0.037508014242429125,
            3.3668484182343654,
            -0.9808547380385693,
            1.2474439575465857,
            -0.31740652912679057,
            -0.22867789328448507,
            -0.6682879526849955,
            -0.277075331016652,
            -0.3617708470479427,
            -0.7408841092832453,
            -0.40411860506358865,
            0.01734241518735985,
            -0.8860764224797438,
            1.7656998532618657,
            -0.4283173239296716,
            -0.42630076402416417,
            0.8038007783350616,
            0.1867334472499413,
            -1.3297196016912678,
            -0.4646154022287965,
            -0.15406517678072898,
            -0.31740652912679057,
            1.4611993075303191,
            -0.5654433975041429,
            -0.33555556827635247
           ]
          },
          {
           "label": "refracture",
           "values": [
            1,
            0,
            0,
            1,
            1,
            0,
            0,
            0,
            0,
            1,
            0,
            1,
            0,
            1,
            0,
            1,
            1,
            0,
            1,
            0,
            null,
            null,
            null,
            null,
            null
           ]
          }
         ],
         "domain": {
          "x": [
           0,
           1
          ],
          "y": [
           0,
           1
          ]
         },
         "line": {
          "color": [
           1,
           0,
           0,
           1,
           1,
           0,
           0,
           0,
           0,
           1,
           0,
           1,
           0,
           1,
           0,
           1,
           1,
           0,
           1,
           0,
           null,
           null,
           null,
           null,
           null
          ],
          "coloraxis": "coloraxis"
         },
         "name": "",
         "type": "parcoords"
        }
       ],
       "layout": {
        "coloraxis": {
         "cmid": 0.5,
         "colorbar": {
          "title": {
           "text": "refracture"
          }
         },
         "colorscale": [
          [
           0,
           "rgb(0, 147, 146)"
          ],
          [
           0.16666666666666666,
           "rgb(114, 170, 161)"
          ],
          [
           0.3333333333333333,
           "rgb(177, 199, 179)"
          ],
          [
           0.5,
           "rgb(241, 234, 200)"
          ],
          [
           0.6666666666666666,
           "rgb(229, 185, 173)"
          ],
          [
           0.8333333333333334,
           "rgb(217, 137, 148)"
          ],
          [
           1,
           "rgb(208, 88, 126)"
          ]
         ]
        },
        "legend": {
         "tracegroupgap": 0
        },
        "margin": {
         "t": 60
        },
        "template": {
         "data": {
          "bar": [
           {
            "error_x": {
             "color": "#2a3f5f"
            },
            "error_y": {
             "color": "#2a3f5f"
            },
            "marker": {
             "line": {
              "color": "#E5ECF6",
              "width": 0.5
             },
             "pattern": {
              "fillmode": "overlay",
              "size": 10,
              "solidity": 0.2
             }
            },
            "type": "bar"
           }
          ],
          "barpolar": [
           {
            "marker": {
             "line": {
              "color": "#E5ECF6",
              "width": 0.5
             },
             "pattern": {
              "fillmode": "overlay",
              "size": 10,
              "solidity": 0.2
             }
            },
            "type": "barpolar"
           }
          ],
          "carpet": [
           {
            "aaxis": {
             "endlinecolor": "#2a3f5f",
             "gridcolor": "white",
             "linecolor": "white",
             "minorgridcolor": "white",
             "startlinecolor": "#2a3f5f"
            },
            "baxis": {
             "endlinecolor": "#2a3f5f",
             "gridcolor": "white",
             "linecolor": "white",
             "minorgridcolor": "white",
             "startlinecolor": "#2a3f5f"
            },
            "type": "carpet"
           }
          ],
          "choropleth": [
           {
            "colorbar": {
             "outlinewidth": 0,
             "ticks": ""
            },
            "type": "choropleth"
           }
          ],
          "contour": [
           {
            "colorbar": {
             "outlinewidth": 0,
             "ticks": ""
            },
            "colorscale": [
             [
              0,
              "#0d0887"
             ],
             [
              0.1111111111111111,
              "#46039f"
             ],
             [
              0.2222222222222222,
              "#7201a8"
             ],
             [
              0.3333333333333333,
              "#9c179e"
             ],
             [
              0.4444444444444444,
              "#bd3786"
             ],
             [
              0.5555555555555556,
              "#d8576b"
             ],
             [
              0.6666666666666666,
              "#ed7953"
             ],
             [
              0.7777777777777778,
              "#fb9f3a"
             ],
             [
              0.8888888888888888,
              "#fdca26"
             ],
             [
              1,
              "#f0f921"
             ]
            ],
            "type": "contour"
           }
          ],
          "contourcarpet": [
           {
            "colorbar": {
             "outlinewidth": 0,
             "ticks": ""
            },
            "type": "contourcarpet"
           }
          ],
          "heatmap": [
           {
            "colorbar": {
             "outlinewidth": 0,
             "ticks": ""
            },
            "colorscale": [
             [
              0,
              "#0d0887"
             ],
             [
              0.1111111111111111,
              "#46039f"
             ],
             [
              0.2222222222222222,
              "#7201a8"
             ],
             [
              0.3333333333333333,
              "#9c179e"
             ],
             [
              0.4444444444444444,
              "#bd3786"
             ],
             [
              0.5555555555555556,
              "#d8576b"
             ],
             [
              0.6666666666666666,
              "#ed7953"
             ],
             [
              0.7777777777777778,
              "#fb9f3a"
             ],
             [
              0.8888888888888888,
              "#fdca26"
             ],
             [
              1,
              "#f0f921"
             ]
            ],
            "type": "heatmap"
           }
          ],
          "heatmapgl": [
           {
            "colorbar": {
             "outlinewidth": 0,
             "ticks": ""
            },
            "colorscale": [
             [
              0,
              "#0d0887"
             ],
             [
              0.1111111111111111,
              "#46039f"
             ],
             [
              0.2222222222222222,
              "#7201a8"
             ],
             [
              0.3333333333333333,
              "#9c179e"
             ],
             [
              0.4444444444444444,
              "#bd3786"
             ],
             [
              0.5555555555555556,
              "#d8576b"
             ],
             [
              0.6666666666666666,
              "#ed7953"
             ],
             [
              0.7777777777777778,
              "#fb9f3a"
             ],
             [
              0.8888888888888888,
              "#fdca26"
             ],
             [
              1,
              "#f0f921"
             ]
            ],
            "type": "heatmapgl"
           }
          ],
          "histogram": [
           {
            "marker": {
             "pattern": {
              "fillmode": "overlay",
              "size": 10,
              "solidity": 0.2
             }
            },
            "type": "histogram"
           }
          ],
          "histogram2d": [
           {
            "colorbar": {
             "outlinewidth": 0,
             "ticks": ""
            },
            "colorscale": [
             [
              0,
              "#0d0887"
             ],
             [
              0.1111111111111111,
              "#46039f"
             ],
             [
              0.2222222222222222,
              "#7201a8"
             ],
             [
              0.3333333333333333,
              "#9c179e"
             ],
             [
              0.4444444444444444,
              "#bd3786"
             ],
             [
              0.5555555555555556,
              "#d8576b"
             ],
             [
              0.6666666666666666,
              "#ed7953"
             ],
             [
              0.7777777777777778,
              "#fb9f3a"
             ],
             [
              0.8888888888888888,
              "#fdca26"
             ],
             [
              1,
              "#f0f921"
             ]
            ],
            "type": "histogram2d"
           }
          ],
          "histogram2dcontour": [
           {
            "colorbar": {
             "outlinewidth": 0,
             "ticks": ""
            },
            "colorscale": [
             [
              0,
              "#0d0887"
             ],
             [
              0.1111111111111111,
              "#46039f"
             ],
             [
              0.2222222222222222,
              "#7201a8"
             ],
             [
              0.3333333333333333,
              "#9c179e"
             ],
             [
              0.4444444444444444,
              "#bd3786"
             ],
             [
              0.5555555555555556,
              "#d8576b"
             ],
             [
              0.6666666666666666,
              "#ed7953"
             ],
             [
              0.7777777777777778,
              "#fb9f3a"
             ],
             [
              0.8888888888888888,
              "#fdca26"
             ],
             [
              1,
              "#f0f921"
             ]
            ],
            "type": "histogram2dcontour"
           }
          ],
          "mesh3d": [
           {
            "colorbar": {
             "outlinewidth": 0,
             "ticks": ""
            },
            "type": "mesh3d"
           }
          ],
          "parcoords": [
           {
            "line": {
             "colorbar": {
              "outlinewidth": 0,
              "ticks": ""
             }
            },
            "type": "parcoords"
           }
          ],
          "pie": [
           {
            "automargin": true,
            "type": "pie"
           }
          ],
          "scatter": [
           {
            "fillpattern": {
             "fillmode": "overlay",
             "size": 10,
             "solidity": 0.2
            },
            "type": "scatter"
           }
          ],
          "scatter3d": [
           {
            "line": {
             "colorbar": {
              "outlinewidth": 0,
              "ticks": ""
             }
            },
            "marker": {
             "colorbar": {
              "outlinewidth": 0,
              "ticks": ""
             }
            },
            "type": "scatter3d"
           }
          ],
          "scattercarpet": [
           {
            "marker": {
             "colorbar": {
              "outlinewidth": 0,
              "ticks": ""
             }
            },
            "type": "scattercarpet"
           }
          ],
          "scattergeo": [
           {
            "marker": {
             "colorbar": {
              "outlinewidth": 0,
              "ticks": ""
             }
            },
            "type": "scattergeo"
           }
          ],
          "scattergl": [
           {
            "marker": {
             "colorbar": {
              "outlinewidth": 0,
              "ticks": ""
             }
            },
            "type": "scattergl"
           }
          ],
          "scattermapbox": [
           {
            "marker": {
             "colorbar": {
              "outlinewidth": 0,
              "ticks": ""
             }
            },
            "type": "scattermapbox"
           }
          ],
          "scatterpolar": [
           {
            "marker": {
             "colorbar": {
              "outlinewidth": 0,
              "ticks": ""
             }
            },
            "type": "scatterpolar"
           }
          ],
          "scatterpolargl": [
           {
            "marker": {
             "colorbar": {
              "outlinewidth": 0,
              "ticks": ""
             }
            },
            "type": "scatterpolargl"
           }
          ],
          "scatterternary": [
           {
            "marker": {
             "colorbar": {
              "outlinewidth": 0,
              "ticks": ""
             }
            },
            "type": "scatterternary"
           }
          ],
          "surface": [
           {
            "colorbar": {
             "outlinewidth": 0,
             "ticks": ""
            },
            "colorscale": [
             [
              0,
              "#0d0887"
             ],
             [
              0.1111111111111111,
              "#46039f"
             ],
             [
              0.2222222222222222,
              "#7201a8"
             ],
             [
              0.3333333333333333,
              "#9c179e"
             ],
             [
              0.4444444444444444,
              "#bd3786"
             ],
             [
              0.5555555555555556,
              "#d8576b"
             ],
             [
              0.6666666666666666,
              "#ed7953"
             ],
             [
              0.7777777777777778,
              "#fb9f3a"
             ],
             [
              0.8888888888888888,
              "#fdca26"
             ],
             [
              1,
              "#f0f921"
             ]
            ],
            "type": "surface"
           }
          ],
          "table": [
           {
            "cells": {
             "fill": {
              "color": "#EBF0F8"
             },
             "line": {
              "color": "white"
             }
            },
            "header": {
             "fill": {
              "color": "#C8D4E3"
             },
             "line": {
              "color": "white"
             }
            },
            "type": "table"
           }
          ]
         },
         "layout": {
          "annotationdefaults": {
           "arrowcolor": "#2a3f5f",
           "arrowhead": 0,
           "arrowwidth": 1
          },
          "autotypenumbers": "strict",
          "coloraxis": {
           "colorbar": {
            "outlinewidth": 0,
            "ticks": ""
           }
          },
          "colorscale": {
           "diverging": [
            [
             0,
             "#8e0152"
            ],
            [
             0.1,
             "#c51b7d"
            ],
            [
             0.2,
             "#de77ae"
            ],
            [
             0.3,
             "#f1b6da"
            ],
            [
             0.4,
             "#fde0ef"
            ],
            [
             0.5,
             "#f7f7f7"
            ],
            [
             0.6,
             "#e6f5d0"
            ],
            [
             0.7,
             "#b8e186"
            ],
            [
             0.8,
             "#7fbc41"
            ],
            [
             0.9,
             "#4d9221"
            ],
            [
             1,
             "#276419"
            ]
           ],
           "sequential": [
            [
             0,
             "#0d0887"
            ],
            [
             0.1111111111111111,
             "#46039f"
            ],
            [
             0.2222222222222222,
             "#7201a8"
            ],
            [
             0.3333333333333333,
             "#9c179e"
            ],
            [
             0.4444444444444444,
             "#bd3786"
            ],
            [
             0.5555555555555556,
             "#d8576b"
            ],
            [
             0.6666666666666666,
             "#ed7953"
            ],
            [
             0.7777777777777778,
             "#fb9f3a"
            ],
            [
             0.8888888888888888,
             "#fdca26"
            ],
            [
             1,
             "#f0f921"
            ]
           ],
           "sequentialminus": [
            [
             0,
             "#0d0887"
            ],
            [
             0.1111111111111111,
             "#46039f"
            ],
            [
             0.2222222222222222,
             "#7201a8"
            ],
            [
             0.3333333333333333,
             "#9c179e"
            ],
            [
             0.4444444444444444,
             "#bd3786"
            ],
            [
             0.5555555555555556,
             "#d8576b"
            ],
            [
             0.6666666666666666,
             "#ed7953"
            ],
            [
             0.7777777777777778,
             "#fb9f3a"
            ],
            [
             0.8888888888888888,
             "#fdca26"
            ],
            [
             1,
             "#f0f921"
            ]
           ]
          },
          "colorway": [
           "#636efa",
           "#EF553B",
           "#00cc96",
           "#ab63fa",
           "#FFA15A",
           "#19d3f3",
           "#FF6692",
           "#B6E880",
           "#FF97FF",
           "#FECB52"
          ],
          "font": {
           "color": "#2a3f5f"
          },
          "geo": {
           "bgcolor": "white",
           "lakecolor": "white",
           "landcolor": "#E5ECF6",
           "showlakes": true,
           "showland": true,
           "subunitcolor": "white"
          },
          "hoverlabel": {
           "align": "left"
          },
          "hovermode": "closest",
          "mapbox": {
           "style": "light"
          },
          "paper_bgcolor": "white",
          "plot_bgcolor": "#E5ECF6",
          "polar": {
           "angularaxis": {
            "gridcolor": "white",
            "linecolor": "white",
            "ticks": ""
           },
           "bgcolor": "#E5ECF6",
           "radialaxis": {
            "gridcolor": "white",
            "linecolor": "white",
            "ticks": ""
           }
          },
          "scene": {
           "xaxis": {
            "backgroundcolor": "#E5ECF6",
            "gridcolor": "white",
            "gridwidth": 2,
            "linecolor": "white",
            "showbackground": true,
            "ticks": "",
            "zerolinecolor": "white"
           },
           "yaxis": {
            "backgroundcolor": "#E5ECF6",
            "gridcolor": "white",
            "gridwidth": 2,
            "linecolor": "white",
            "showbackground": true,
            "ticks": "",
            "zerolinecolor": "white"
           },
           "zaxis": {
            "backgroundcolor": "#E5ECF6",
            "gridcolor": "white",
            "gridwidth": 2,
            "linecolor": "white",
            "showbackground": true,
            "ticks": "",
            "zerolinecolor": "white"
           }
          },
          "shapedefaults": {
           "line": {
            "color": "#2a3f5f"
           }
          },
          "ternary": {
           "aaxis": {
            "gridcolor": "white",
            "linecolor": "white",
            "ticks": ""
           },
           "baxis": {
            "gridcolor": "white",
            "linecolor": "white",
            "ticks": ""
           },
           "bgcolor": "#E5ECF6",
           "caxis": {
            "gridcolor": "white",
            "linecolor": "white",
            "ticks": ""
           }
          },
          "title": {
           "x": 0.05
          },
          "xaxis": {
           "automargin": true,
           "gridcolor": "white",
           "linecolor": "white",
           "ticks": "",
           "title": {
            "standoff": 15
           },
           "zerolinecolor": "white",
           "zerolinewidth": 2
          },
          "yaxis": {
           "automargin": true,
           "gridcolor": "white",
           "linecolor": "white",
           "ticks": "",
           "title": {
            "standoff": 15
           },
           "zerolinecolor": "white",
           "zerolinewidth": 2
          }
         }
        }
       }
      }
     },
     "metadata": {},
     "output_type": "display_data"
    }
   ],
   "source": [
    "import plotly.express as px\n",
    "\n",
    "fig = px.parallel_coordinates(IL_10_DF, color = \"refracture\", color_continuous_scale=px.colors.diverging.Tealrose, color_continuous_midpoint=0.5)\n",
    "fig.show()"
   ]
  }
 ],
 "metadata": {
  "kernelspec": {
   "display_name": "Python 3.9.13 ('base')",
   "language": "python",
   "name": "python3"
  },
  "language_info": {
   "codemirror_mode": {
    "name": "ipython",
    "version": 3
   },
   "file_extension": ".py",
   "mimetype": "text/x-python",
   "name": "python",
   "nbconvert_exporter": "python",
   "pygments_lexer": "ipython3",
   "version": "3.9.13 | packaged by conda-forge | (main, May 27 2022, 17:01:00) \n[Clang 13.0.1 ]"
  },
  "orig_nbformat": 4,
  "vscode": {
   "interpreter": {
    "hash": "4251f1f3f61588c16b90f5696d157f5798b8bb60c31fefc70356d5820835e374"
   }
  }
 },
 "nbformat": 4,
 "nbformat_minor": 2
}
